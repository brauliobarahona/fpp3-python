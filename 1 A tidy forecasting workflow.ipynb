{
  "cells": [
    {
      "cell_type": "markdown",
      "metadata": {},
      "source": [
        "[![Open In Colab](https://colab.research.google.com/assets/colab-badge.svg)](https://colab.research.google.com/github/brauliobarahona/fpp3-python/blob/main/1 A tidy forecasting workflow.ipynb)"
      ]
    },
    {
      "cell_type": "code",
      "source": [
        "!pip install statsforecast"
      ],
      "metadata": {
        "id": "fz6ot40o9T2w"
      },
      "execution_count": null,
      "outputs": []
    },
    {
      "cell_type": "code",
      "source": [
        "# prompt: mount google drive\n",
        "from google.colab import drive\n",
        "drive.mount('/content/drive')\n",
        "\n",
        "my_path = \"/content/drive/MyDrive/EDAF/Intro_data_forecast/fpp3-python/\"\n",
        "# /content/drive/MyDrive/EDAF/Intro_data_forecast/fpp3-python/Assets"
      ],
      "metadata": {
        "colab": {
          "base_uri": "https://localhost:8080/"
        },
        "id": "VLtLW8Xk5nba",
        "executionInfo": {
          "status": "ok",
          "timestamp": 1738571615913,
          "user_tz": -60,
          "elapsed": 1756,
          "user": {
            "displayName": "Braulio Barahona",
            "userId": "14592026709786510981"
          }
        },
        "outputId": "e5487513-9c5f-4dc7-f561-45bf86eef863"
      },
      "execution_count": 42,
      "outputs": [
        {
          "output_type": "stream",
          "name": "stdout",
          "text": [
            "Drive already mounted at /content/drive; to attempt to forcibly remount, call drive.mount(\"/content/drive\", force_remount=True).\n"
          ]
        }
      ]
    },
    {
      "cell_type": "markdown",
      "metadata": {
        "id": "rdG73BcW4phO"
      },
      "source": [
        "## 1. A tidy forecasting workflow\n",
        "***\n",
        "\n",
        "The process of producing forecasts for time series data can be broken down into a few steps.\n",
        "\n",
        "![workflow-1](https://raw.githubusercontent.com/Nixtla/fpp3/main/Assets/workflow-1.png)\n",
        "\n",
        "<img src=\"https://raw.githubusercontent.com/Nixtla/fpp3/main/Assets/workflow-1.png\" alt=\"workflow\" />\n",
        "\n",
        "\n",
        "To illustrate the process, we will fit a ETS model to national GDP data stored in `global_economy`\n",
        "\n",
        "## Data preparation (tidy)\n",
        "\n",
        "The first step in forecasting is to prepare data in the correct format. This process may involve loading in data, identifying missing values, filtering the time series, and other pre-processing tasks. *Multiple pandas functions can be useful for this stage*\n",
        "\n",
        "Many models have different data requirements; some require the series to be in time order, others require no missing values. Checking your data is an essential step to understanding its features and should always be done before models are estimated.\n",
        "\n",
        "We will model GDP per capita over time; so first, we must compute the relevant variable."
      ]
    },
    {
      "cell_type": "code",
      "execution_count": 43,
      "metadata": {
        "id": "jO9kCtpz4phQ",
        "executionInfo": {
          "status": "ok",
          "timestamp": 1738571615914,
          "user_tz": -60,
          "elapsed": 33,
          "user": {
            "displayName": "Braulio Barahona",
            "userId": "14592026709786510981"
          }
        }
      },
      "outputs": [],
      "source": [
        "#Import the libraries that we are going to use for the analysis:\n",
        "import pandas as pd\n",
        "import numpy as np\n",
        "import statsforecast\n",
        "import matplotlib.pyplot as plt"
      ]
    },
    {
      "cell_type": "code",
      "execution_count": 44,
      "metadata": {
        "colab": {
          "base_uri": "https://localhost:8080/",
          "height": 273
        },
        "id": "OgKL5I714phR",
        "executionInfo": {
          "status": "ok",
          "timestamp": 1738571615915,
          "user_tz": -60,
          "elapsed": 33,
          "user": {
            "displayName": "Braulio Barahona",
            "userId": "14592026709786510981"
          }
        },
        "outputId": "d0e9a8ce-9394-40fb-e399-6c42a1f23f48"
      },
      "outputs": [
        {
          "output_type": "execute_result",
          "data": {
            "text/plain": [
              "   Year  Afghanistan_gdp  Albania_gdp   Algeria_gdp  American Samoa_gdp  \\\n",
              "0  1960      537777811.1          NaN  2.723593e+09                 NaN   \n",
              "1  1961      548888895.6          NaN  2.434727e+09                 NaN   \n",
              "2  1962      546666677.8          NaN  2.001428e+09                 NaN   \n",
              "3  1963      751111191.1          NaN  2.702960e+09                 NaN   \n",
              "4  1964      800000044.4          NaN  2.909293e+09                 NaN   \n",
              "\n",
              "   Andorra_gdp  Angola_gdp  Antigua and Barbuda_gdp  Argentina_gdp  \\\n",
              "0          NaN         NaN                      NaN            NaN   \n",
              "1          NaN         NaN                      NaN            NaN   \n",
              "2          NaN         NaN                      NaN   2.445060e+10   \n",
              "3          NaN         NaN                      NaN   1.827212e+10   \n",
              "4          NaN         NaN                      NaN   2.560525e+10   \n",
              "\n",
              "   Armenia_gdp  ...  Uruguay_gdp_per_cap  Uzbekistan_gdp_per_cap  \\\n",
              "0          NaN  ...           489.350725                     0.0   \n",
              "1          NaN  ...           601.703003                     0.0   \n",
              "2          NaN  ...           656.713227                     0.0   \n",
              "3          NaN  ...           584.291633                     0.0   \n",
              "4          NaN  ...           741.244998                     0.0   \n",
              "\n",
              "   Vanuatu_gdp_per_cap  Venezuela, RB_gdp_per_cap  Vietnam_gdp_per_cap  \\\n",
              "0                  0.0                 955.446418                  0.0   \n",
              "1                  0.0                 970.356398                  0.0   \n",
              "2                  0.0                1023.355237                  0.0   \n",
              "3                  0.0                1077.403051                  0.0   \n",
              "4                  0.0                 864.471221                  0.0   \n",
              "\n",
              "   Virgin Islands (U.S.)_gdp_per_cap  West Bank and Gaza_gdp_per_cap  \\\n",
              "0                                0.0                             0.0   \n",
              "1                                0.0                             0.0   \n",
              "2                                0.0                             0.0   \n",
              "3                                0.0                             0.0   \n",
              "4                                0.0                             0.0   \n",
              "\n",
              "   Yemen, Rep._gdp_per_cap  Zambia_gdp_per_cap  Zimbabwe_gdp_per_cap  \n",
              "0                      0.0          232.188565            278.813847  \n",
              "1                      0.0          220.042067            280.828663  \n",
              "2                      0.0          212.578449            276.688233  \n",
              "3                      0.0          213.896759            277.479715  \n",
              "4                      0.0          242.384472            281.558896  \n",
              "\n",
              "[5 rows x 1303 columns]"
            ],
            "text/html": [
              "\n",
              "  <div id=\"df-09308e44-f923-4cb9-bcae-32f149646a38\" class=\"colab-df-container\">\n",
              "    <div>\n",
              "<style scoped>\n",
              "    .dataframe tbody tr th:only-of-type {\n",
              "        vertical-align: middle;\n",
              "    }\n",
              "\n",
              "    .dataframe tbody tr th {\n",
              "        vertical-align: top;\n",
              "    }\n",
              "\n",
              "    .dataframe thead th {\n",
              "        text-align: right;\n",
              "    }\n",
              "</style>\n",
              "<table border=\"1\" class=\"dataframe\">\n",
              "  <thead>\n",
              "    <tr style=\"text-align: right;\">\n",
              "      <th></th>\n",
              "      <th>Year</th>\n",
              "      <th>Afghanistan_gdp</th>\n",
              "      <th>Albania_gdp</th>\n",
              "      <th>Algeria_gdp</th>\n",
              "      <th>American Samoa_gdp</th>\n",
              "      <th>Andorra_gdp</th>\n",
              "      <th>Angola_gdp</th>\n",
              "      <th>Antigua and Barbuda_gdp</th>\n",
              "      <th>Argentina_gdp</th>\n",
              "      <th>Armenia_gdp</th>\n",
              "      <th>...</th>\n",
              "      <th>Uruguay_gdp_per_cap</th>\n",
              "      <th>Uzbekistan_gdp_per_cap</th>\n",
              "      <th>Vanuatu_gdp_per_cap</th>\n",
              "      <th>Venezuela, RB_gdp_per_cap</th>\n",
              "      <th>Vietnam_gdp_per_cap</th>\n",
              "      <th>Virgin Islands (U.S.)_gdp_per_cap</th>\n",
              "      <th>West Bank and Gaza_gdp_per_cap</th>\n",
              "      <th>Yemen, Rep._gdp_per_cap</th>\n",
              "      <th>Zambia_gdp_per_cap</th>\n",
              "      <th>Zimbabwe_gdp_per_cap</th>\n",
              "    </tr>\n",
              "  </thead>\n",
              "  <tbody>\n",
              "    <tr>\n",
              "      <th>0</th>\n",
              "      <td>1960</td>\n",
              "      <td>537777811.1</td>\n",
              "      <td>NaN</td>\n",
              "      <td>2.723593e+09</td>\n",
              "      <td>NaN</td>\n",
              "      <td>NaN</td>\n",
              "      <td>NaN</td>\n",
              "      <td>NaN</td>\n",
              "      <td>NaN</td>\n",
              "      <td>NaN</td>\n",
              "      <td>...</td>\n",
              "      <td>489.350725</td>\n",
              "      <td>0.0</td>\n",
              "      <td>0.0</td>\n",
              "      <td>955.446418</td>\n",
              "      <td>0.0</td>\n",
              "      <td>0.0</td>\n",
              "      <td>0.0</td>\n",
              "      <td>0.0</td>\n",
              "      <td>232.188565</td>\n",
              "      <td>278.813847</td>\n",
              "    </tr>\n",
              "    <tr>\n",
              "      <th>1</th>\n",
              "      <td>1961</td>\n",
              "      <td>548888895.6</td>\n",
              "      <td>NaN</td>\n",
              "      <td>2.434727e+09</td>\n",
              "      <td>NaN</td>\n",
              "      <td>NaN</td>\n",
              "      <td>NaN</td>\n",
              "      <td>NaN</td>\n",
              "      <td>NaN</td>\n",
              "      <td>NaN</td>\n",
              "      <td>...</td>\n",
              "      <td>601.703003</td>\n",
              "      <td>0.0</td>\n",
              "      <td>0.0</td>\n",
              "      <td>970.356398</td>\n",
              "      <td>0.0</td>\n",
              "      <td>0.0</td>\n",
              "      <td>0.0</td>\n",
              "      <td>0.0</td>\n",
              "      <td>220.042067</td>\n",
              "      <td>280.828663</td>\n",
              "    </tr>\n",
              "    <tr>\n",
              "      <th>2</th>\n",
              "      <td>1962</td>\n",
              "      <td>546666677.8</td>\n",
              "      <td>NaN</td>\n",
              "      <td>2.001428e+09</td>\n",
              "      <td>NaN</td>\n",
              "      <td>NaN</td>\n",
              "      <td>NaN</td>\n",
              "      <td>NaN</td>\n",
              "      <td>2.445060e+10</td>\n",
              "      <td>NaN</td>\n",
              "      <td>...</td>\n",
              "      <td>656.713227</td>\n",
              "      <td>0.0</td>\n",
              "      <td>0.0</td>\n",
              "      <td>1023.355237</td>\n",
              "      <td>0.0</td>\n",
              "      <td>0.0</td>\n",
              "      <td>0.0</td>\n",
              "      <td>0.0</td>\n",
              "      <td>212.578449</td>\n",
              "      <td>276.688233</td>\n",
              "    </tr>\n",
              "    <tr>\n",
              "      <th>3</th>\n",
              "      <td>1963</td>\n",
              "      <td>751111191.1</td>\n",
              "      <td>NaN</td>\n",
              "      <td>2.702960e+09</td>\n",
              "      <td>NaN</td>\n",
              "      <td>NaN</td>\n",
              "      <td>NaN</td>\n",
              "      <td>NaN</td>\n",
              "      <td>1.827212e+10</td>\n",
              "      <td>NaN</td>\n",
              "      <td>...</td>\n",
              "      <td>584.291633</td>\n",
              "      <td>0.0</td>\n",
              "      <td>0.0</td>\n",
              "      <td>1077.403051</td>\n",
              "      <td>0.0</td>\n",
              "      <td>0.0</td>\n",
              "      <td>0.0</td>\n",
              "      <td>0.0</td>\n",
              "      <td>213.896759</td>\n",
              "      <td>277.479715</td>\n",
              "    </tr>\n",
              "    <tr>\n",
              "      <th>4</th>\n",
              "      <td>1964</td>\n",
              "      <td>800000044.4</td>\n",
              "      <td>NaN</td>\n",
              "      <td>2.909293e+09</td>\n",
              "      <td>NaN</td>\n",
              "      <td>NaN</td>\n",
              "      <td>NaN</td>\n",
              "      <td>NaN</td>\n",
              "      <td>2.560525e+10</td>\n",
              "      <td>NaN</td>\n",
              "      <td>...</td>\n",
              "      <td>741.244998</td>\n",
              "      <td>0.0</td>\n",
              "      <td>0.0</td>\n",
              "      <td>864.471221</td>\n",
              "      <td>0.0</td>\n",
              "      <td>0.0</td>\n",
              "      <td>0.0</td>\n",
              "      <td>0.0</td>\n",
              "      <td>242.384472</td>\n",
              "      <td>281.558896</td>\n",
              "    </tr>\n",
              "  </tbody>\n",
              "</table>\n",
              "<p>5 rows \u00d7 1303 columns</p>\n",
              "</div>\n",
              "    <div class=\"colab-df-buttons\">\n",
              "\n",
              "  <div class=\"colab-df-container\">\n",
              "    <button class=\"colab-df-convert\" onclick=\"convertToInteractive('df-09308e44-f923-4cb9-bcae-32f149646a38')\"\n",
              "            title=\"Convert this dataframe to an interactive table.\"\n",
              "            style=\"display:none;\">\n",
              "\n",
              "  <svg xmlns=\"http://www.w3.org/2000/svg\" height=\"24px\" viewBox=\"0 -960 960 960\">\n",
              "    <path d=\"M120-120v-720h720v720H120Zm60-500h600v-160H180v160Zm220 220h160v-160H400v160Zm0 220h160v-160H400v160ZM180-400h160v-160H180v160Zm440 0h160v-160H620v160ZM180-180h160v-160H180v160Zm440 0h160v-160H620v160Z\"/>\n",
              "  </svg>\n",
              "    </button>\n",
              "\n",
              "  <style>\n",
              "    .colab-df-container {\n",
              "      display:flex;\n",
              "      gap: 12px;\n",
              "    }\n",
              "\n",
              "    .colab-df-convert {\n",
              "      background-color: #E8F0FE;\n",
              "      border: none;\n",
              "      border-radius: 50%;\n",
              "      cursor: pointer;\n",
              "      display: none;\n",
              "      fill: #1967D2;\n",
              "      height: 32px;\n",
              "      padding: 0 0 0 0;\n",
              "      width: 32px;\n",
              "    }\n",
              "\n",
              "    .colab-df-convert:hover {\n",
              "      background-color: #E2EBFA;\n",
              "      box-shadow: 0px 1px 2px rgba(60, 64, 67, 0.3), 0px 1px 3px 1px rgba(60, 64, 67, 0.15);\n",
              "      fill: #174EA6;\n",
              "    }\n",
              "\n",
              "    .colab-df-buttons div {\n",
              "      margin-bottom: 4px;\n",
              "    }\n",
              "\n",
              "    [theme=dark] .colab-df-convert {\n",
              "      background-color: #3B4455;\n",
              "      fill: #D2E3FC;\n",
              "    }\n",
              "\n",
              "    [theme=dark] .colab-df-convert:hover {\n",
              "      background-color: #434B5C;\n",
              "      box-shadow: 0px 1px 3px 1px rgba(0, 0, 0, 0.15);\n",
              "      filter: drop-shadow(0px 1px 2px rgba(0, 0, 0, 0.3));\n",
              "      fill: #FFFFFF;\n",
              "    }\n",
              "  </style>\n",
              "\n",
              "    <script>\n",
              "      const buttonEl =\n",
              "        document.querySelector('#df-09308e44-f923-4cb9-bcae-32f149646a38 button.colab-df-convert');\n",
              "      buttonEl.style.display =\n",
              "        google.colab.kernel.accessAllowed ? 'block' : 'none';\n",
              "\n",
              "      async function convertToInteractive(key) {\n",
              "        const element = document.querySelector('#df-09308e44-f923-4cb9-bcae-32f149646a38');\n",
              "        const dataTable =\n",
              "          await google.colab.kernel.invokeFunction('convertToInteractive',\n",
              "                                                    [key], {});\n",
              "        if (!dataTable) return;\n",
              "\n",
              "        const docLinkHtml = 'Like what you see? Visit the ' +\n",
              "          '<a target=\"_blank\" href=https://colab.research.google.com/notebooks/data_table.ipynb>data table notebook</a>'\n",
              "          + ' to learn more about interactive tables.';\n",
              "        element.innerHTML = '';\n",
              "        dataTable['output_type'] = 'display_data';\n",
              "        await google.colab.output.renderOutput(dataTable, element);\n",
              "        const docLink = document.createElement('div');\n",
              "        docLink.innerHTML = docLinkHtml;\n",
              "        element.appendChild(docLink);\n",
              "      }\n",
              "    </script>\n",
              "  </div>\n",
              "\n",
              "\n",
              "<div id=\"df-9c8aa9dd-1150-45ca-a81d-269e75f43e8e\">\n",
              "  <button class=\"colab-df-quickchart\" onclick=\"quickchart('df-9c8aa9dd-1150-45ca-a81d-269e75f43e8e')\"\n",
              "            title=\"Suggest charts\"\n",
              "            style=\"display:none;\">\n",
              "\n",
              "<svg xmlns=\"http://www.w3.org/2000/svg\" height=\"24px\"viewBox=\"0 0 24 24\"\n",
              "     width=\"24px\">\n",
              "    <g>\n",
              "        <path d=\"M19 3H5c-1.1 0-2 .9-2 2v14c0 1.1.9 2 2 2h14c1.1 0 2-.9 2-2V5c0-1.1-.9-2-2-2zM9 17H7v-7h2v7zm4 0h-2V7h2v10zm4 0h-2v-4h2v4z\"/>\n",
              "    </g>\n",
              "</svg>\n",
              "  </button>\n",
              "\n",
              "<style>\n",
              "  .colab-df-quickchart {\n",
              "      --bg-color: #E8F0FE;\n",
              "      --fill-color: #1967D2;\n",
              "      --hover-bg-color: #E2EBFA;\n",
              "      --hover-fill-color: #174EA6;\n",
              "      --disabled-fill-color: #AAA;\n",
              "      --disabled-bg-color: #DDD;\n",
              "  }\n",
              "\n",
              "  [theme=dark] .colab-df-quickchart {\n",
              "      --bg-color: #3B4455;\n",
              "      --fill-color: #D2E3FC;\n",
              "      --hover-bg-color: #434B5C;\n",
              "      --hover-fill-color: #FFFFFF;\n",
              "      --disabled-bg-color: #3B4455;\n",
              "      --disabled-fill-color: #666;\n",
              "  }\n",
              "\n",
              "  .colab-df-quickchart {\n",
              "    background-color: var(--bg-color);\n",
              "    border: none;\n",
              "    border-radius: 50%;\n",
              "    cursor: pointer;\n",
              "    display: none;\n",
              "    fill: var(--fill-color);\n",
              "    height: 32px;\n",
              "    padding: 0;\n",
              "    width: 32px;\n",
              "  }\n",
              "\n",
              "  .colab-df-quickchart:hover {\n",
              "    background-color: var(--hover-bg-color);\n",
              "    box-shadow: 0 1px 2px rgba(60, 64, 67, 0.3), 0 1px 3px 1px rgba(60, 64, 67, 0.15);\n",
              "    fill: var(--button-hover-fill-color);\n",
              "  }\n",
              "\n",
              "  .colab-df-quickchart-complete:disabled,\n",
              "  .colab-df-quickchart-complete:disabled:hover {\n",
              "    background-color: var(--disabled-bg-color);\n",
              "    fill: var(--disabled-fill-color);\n",
              "    box-shadow: none;\n",
              "  }\n",
              "\n",
              "  .colab-df-spinner {\n",
              "    border: 2px solid var(--fill-color);\n",
              "    border-color: transparent;\n",
              "    border-bottom-color: var(--fill-color);\n",
              "    animation:\n",
              "      spin 1s steps(1) infinite;\n",
              "  }\n",
              "\n",
              "  @keyframes spin {\n",
              "    0% {\n",
              "      border-color: transparent;\n",
              "      border-bottom-color: var(--fill-color);\n",
              "      border-left-color: var(--fill-color);\n",
              "    }\n",
              "    20% {\n",
              "      border-color: transparent;\n",
              "      border-left-color: var(--fill-color);\n",
              "      border-top-color: var(--fill-color);\n",
              "    }\n",
              "    30% {\n",
              "      border-color: transparent;\n",
              "      border-left-color: var(--fill-color);\n",
              "      border-top-color: var(--fill-color);\n",
              "      border-right-color: var(--fill-color);\n",
              "    }\n",
              "    40% {\n",
              "      border-color: transparent;\n",
              "      border-right-color: var(--fill-color);\n",
              "      border-top-color: var(--fill-color);\n",
              "    }\n",
              "    60% {\n",
              "      border-color: transparent;\n",
              "      border-right-color: var(--fill-color);\n",
              "    }\n",
              "    80% {\n",
              "      border-color: transparent;\n",
              "      border-right-color: var(--fill-color);\n",
              "      border-bottom-color: var(--fill-color);\n",
              "    }\n",
              "    90% {\n",
              "      border-color: transparent;\n",
              "      border-bottom-color: var(--fill-color);\n",
              "    }\n",
              "  }\n",
              "</style>\n",
              "\n",
              "  <script>\n",
              "    async function quickchart(key) {\n",
              "      const quickchartButtonEl =\n",
              "        document.querySelector('#' + key + ' button');\n",
              "      quickchartButtonEl.disabled = true;  // To prevent multiple clicks.\n",
              "      quickchartButtonEl.classList.add('colab-df-spinner');\n",
              "      try {\n",
              "        const charts = await google.colab.kernel.invokeFunction(\n",
              "            'suggestCharts', [key], {});\n",
              "      } catch (error) {\n",
              "        console.error('Error during call to suggestCharts:', error);\n",
              "      }\n",
              "      quickchartButtonEl.classList.remove('colab-df-spinner');\n",
              "      quickchartButtonEl.classList.add('colab-df-quickchart-complete');\n",
              "    }\n",
              "    (() => {\n",
              "      let quickchartButtonEl =\n",
              "        document.querySelector('#df-9c8aa9dd-1150-45ca-a81d-269e75f43e8e button');\n",
              "      quickchartButtonEl.style.display =\n",
              "        google.colab.kernel.accessAllowed ? 'block' : 'none';\n",
              "    })();\n",
              "  </script>\n",
              "</div>\n",
              "\n",
              "    </div>\n",
              "  </div>\n"
            ],
            "application/vnd.google.colaboratory.intrinsic+json": {
              "type": "dataframe",
              "variable_name": "df"
            }
          },
          "metadata": {},
          "execution_count": 44
        }
      ],
      "source": [
        "# Create a dataframe from a csv file\n",
        "df = pd.read_csv(my_path + \"Assets/global_economy_data.csv\", delimiter=\";\")\n",
        "\n",
        "df.head()"
      ]
    },
    {
      "cell_type": "markdown",
      "metadata": {
        "id": "H6eOU6Kf4phS"
      },
      "source": [
        "## Plot the data (visualise)\n",
        "\n",
        "As we have seen in Chapter 2, visualisation is an essential step in understanding the data. Looking at your data allows you to identify common patterns, and subsequently specify an appropriate model.\n",
        "\n",
        "The data for one country in our example are plotted the next Figure:"
      ]
    },
    {
      "cell_type": "code",
      "execution_count": 45,
      "metadata": {
        "id": "IeD0tGM74phT",
        "executionInfo": {
          "status": "ok",
          "timestamp": 1738571616351,
          "user_tz": -60,
          "elapsed": 468,
          "user": {
            "displayName": "Braulio Barahona",
            "userId": "14592026709786510981"
          }
        },
        "colab": {
          "base_uri": "https://localhost:8080/",
          "height": 375
        },
        "outputId": "d10b1d7d-c833-4779-f86d-e96091cee355"
      },
      "outputs": [
        {
          "output_type": "execute_result",
          "data": {
            "text/plain": [
              "[<matplotlib.lines.Line2D at 0x7d9d95291a50>]"
            ]
          },
          "metadata": {},
          "execution_count": 45
        },
        {
          "output_type": "display_data",
          "data": {
            "text/plain": [
              "<Figure size 2000x800 with 1 Axes>"
            ],
            "image/png": "[encoded data removed]"
          },
          "metadata": {}
        }
      ],
      "source": [
        "fig = plt.figure(figsize=(20,8))\n",
        "ax = plt.axes()\n",
        "\n",
        "# Specify graph features\n",
        "plt.title(\"GDP per capita for Sweden\")\n",
        "plt.xlabel(\"Year [1Y]\")\n",
        "plt.ylabel(\"$US\")\n",
        "\n",
        "ax.plot( df[\"Year\"], df[\"Sweden_gdp_per_cap\"])"
      ]
    },
    {
      "cell_type": "markdown",
      "metadata": {
        "id": "VQOJJKHh4phT"
      },
      "source": [
        "<p style=\"text-align: center;\">\n",
        "Figure 1: GDP per capita data for Sweden from 1960 to 2017.\n",
        "</p>"
      ]
    },
    {
      "cell_type": "markdown",
      "metadata": {
        "id": "8uwbapFo4phU"
      },
      "source": [
        "## Define a model (specify)\n",
        "\n",
        "There are many different time series models that can be used for forecasting, and much of this book is dedicated to describing various models. Specifying an appropriate model for the data is essential for producing appropriate forecasts.\n",
        "\n",
        "*For example, it\u00b4s possible to use an `ETS model` to study the time series of GDP per capita.*\n",
        "\n",
        "*The exponential smoothing (ETS) algorithm is especially suited for data with seasonality and trend. ETS computes a weighted average over all observations in the input time series dataset as its prediction. In contrast to moving average methods with constant weights, ETS weights exponentially decrease over time, capturing long term dependencies while prioritizing new observations.*"
      ]
    },
    {
      "cell_type": "code",
      "execution_count": 46,
      "metadata": {
        "id": "Knh2GWvQ4phU",
        "executionInfo": {
          "status": "ok",
          "timestamp": 1738571616352,
          "user_tz": -60,
          "elapsed": 30,
          "user": {
            "displayName": "Braulio Barahona",
            "userId": "14592026709786510981"
          }
        }
      },
      "outputs": [],
      "source": [
        "#Import the model that we are going to use:\n",
        "from statsforecast import StatsForecast\n",
        "from statsforecast.models import AutoETS as ETS"
      ]
    },
    {
      "cell_type": "markdown",
      "metadata": {
        "id": "bISnSdUP4phV"
      },
      "source": [
        "*AutoETS model Automatically selects the best ETS (Error, Trend, Seasonality) model using an information criterion. Default is Akaike Information Criterion (AICc), while particular models are estimated using maximum likelihood. The state-space equations can be determined based on their `M` multiplicative, `A` additive, `Z` optimized or `N` ommited components. The model string parameter defines the ETS equations: E in `[M A Z]`, T in `[N A M Z]`, and S in `[N A M Z]`.*\n",
        "\n",
        "*For example when model=\u2018ANN\u2019 (additive error, no trend, and no seasonality), ETS will explore only a simple exponential smoothing.*\n",
        "\n",
        "*If the component is selected as \u2018Z\u2019, it operates as a placeholder to ask the AutoETS model to figure out the best parameter.*"
      ]
    },
    {
      "cell_type": "markdown",
      "metadata": {
        "id": "6GfAlHG54phV"
      },
      "source": [
        "## Train the model (estimate)\n",
        "\n",
        "Once an appropriate model is specified, we next train the model on some data. To estimate the model in our example, we use:"
      ]
    },
    {
      "cell_type": "code",
      "execution_count": 47,
      "metadata": {
        "id": "CgmRrRyX4phW",
        "executionInfo": {
          "status": "ok",
          "timestamp": 1738571616354,
          "user_tz": -60,
          "elapsed": 31,
          "user": {
            "displayName": "Braulio Barahona",
            "userId": "14592026709786510981"
          }
        }
      },
      "outputs": [],
      "source": [
        "# Create an array with the observed values in Sweden_gdp_per_cap:\n",
        "y_sweden_gdp_per_cap = df[\"Sweden_gdp_per_cap\"].values\n",
        "\n",
        "# Create a dataframe with the observed values in Sweden_gdp_per_cap and date index:\n",
        "Y_df = df[[\"Year\",\"Sweden_gdp_per_cap\"]]\n",
        "Y_df.columns = [\"ds\",\"y\"]"
      ]
    },
    {
      "cell_type": "code",
      "execution_count": 48,
      "metadata": {
        "id": "FicQVQij4phW",
        "executionInfo": {
          "status": "ok",
          "timestamp": 1738571616873,
          "user_tz": -60,
          "elapsed": 549,
          "user": {
            "displayName": "Braulio Barahona",
            "userId": "14592026709786510981"
          }
        }
      },
      "outputs": [],
      "source": [
        "# for ets we pass a ZMZ model (Multiplicative trend, optimal error and seasonality) which stands for error selected optimally:\n",
        "ets = ETS(model='ZMZ',\n",
        "          season_length=4)\n",
        "ets = ets.fit(y=y_sweden_gdp_per_cap)"
      ]
    },
    {
      "cell_type": "markdown",
      "metadata": {
        "id": "6uR32wxJ4phW"
      },
      "source": [
        "This fits a ETS model to the GDP per capita data for Sweden"
      ]
    },
    {
      "cell_type": "markdown",
      "metadata": {
        "id": "mIF4HUmA4phW"
      },
      "source": [
        "## Check model performance (evaluate)\n",
        "\n",
        "Once a model has been fitted, it is important to check how well it has performed on the data. There are several diagnostic tools available to check model behaviour, and also accuracy measures that allow one model to be compared against another. Sections 8 and 9 go into further details.\n",
        "\n",
        "## Produce forecasts (forecast)\n",
        "\n",
        "With an appropriate model specified, estimated and checked, it is time to produce the forecasts using `.predict()`. The easiest way to use this function is by specifying the number of future observations to forecast. For example, forecasts for the next 10 observations can be generated using `h = 10`. We can also use natural language; e.g., `h = \"2 years\"` can be used to predict two years into the future.\n",
        "\n",
        "In other situations, it may be more convenient to provide a dataset of future time periods to forecast. This is commonly required when your model uses additional information from the data, such as exogenous regressors. Additional data required by the model can be included in the dataset of observations to forecast."
      ]
    },
    {
      "cell_type": "code",
      "execution_count": 49,
      "metadata": {
        "id": "MXqnxT_N4phX",
        "executionInfo": {
          "status": "ok",
          "timestamp": 1738571616874,
          "user_tz": -60,
          "elapsed": 32,
          "user": {
            "displayName": "Braulio Barahona",
            "userId": "14592026709786510981"
          }
        },
        "colab": {
          "base_uri": "https://localhost:8080/"
        },
        "outputId": "92998219-7c2f-4f2c-e96a-65307c7d84ce"
      },
      "outputs": [
        {
          "output_type": "execute_result",
          "data": {
            "text/plain": [
              "{'mean': array([55573.24697785, 57414.00914268, 59276.49991915])}"
            ]
          },
          "metadata": {},
          "execution_count": 49
        }
      ],
      "source": [
        "# Make predictions with ETS model:\n",
        "horizon = 3\n",
        "y_hat_dict = ets.predict(h=horizon)\n",
        "y_hat_dict"
      ]
    },
    {
      "cell_type": "code",
      "execution_count": 50,
      "metadata": {
        "id": "Hav4qqI84phX",
        "executionInfo": {
          "status": "ok",
          "timestamp": 1738571616875,
          "user_tz": -60,
          "elapsed": 31,
          "user": {
            "displayName": "Braulio Barahona",
            "userId": "14592026709786510981"
          }
        }
      },
      "outputs": [],
      "source": [
        "# Specify the years predicted\n",
        "years_pred = [2018,2019,2020]\n",
        "\n",
        "# Create a dataframe with the years and values predicted\n",
        "Y_pred_df = pd.DataFrame({'ds':years_pred,\n",
        "                        'ETS':y_hat_dict[\"mean\"]})"
      ]
    },
    {
      "cell_type": "markdown",
      "metadata": {
        "id": "4SR45RJ-4phX"
      },
      "source": [
        "The forecasts can be plotted along with the historical data using matplotlib as follows:"
      ]
    },
    {
      "cell_type": "code",
      "execution_count": 51,
      "metadata": {
        "id": "Nfkps9rJ4phX",
        "executionInfo": {
          "status": "ok",
          "timestamp": 1738571617040,
          "user_tz": -60,
          "elapsed": 196,
          "user": {
            "displayName": "Braulio Barahona",
            "userId": "14592026709786510981"
          }
        },
        "colab": {
          "base_uri": "https://localhost:8080/",
          "height": 366
        },
        "outputId": "edf98b9d-cf8f-4c88-9270-f770a53111f6"
      },
      "outputs": [
        {
          "output_type": "display_data",
          "data": {
            "text/plain": [
              "<Figure size 2000x800 with 1 Axes>"
            ],
            "image/png": "[encoded data removed]"
          },
          "metadata": {}
        }
      ],
      "source": [
        "fig, ax = plt.subplots(1, 1, figsize = (20, 8))\n",
        "\n",
        "# Concatenate the dataframe of predicted values with the dataframe of observed values\n",
        "plot_df = pd.concat([Y_df, Y_pred_df]).set_index('ds')\n",
        "plot_df[['y', 'ETS']].plot(ax=ax, linewidth=2)\n",
        "\n",
        "# Specify graph features\n",
        "ax.set_title('GDP per capita for Sweden', fontsize=22)\n",
        "ax.set_ylabel('$US', fontsize=20)\n",
        "ax.set_xlabel('Year', fontsize=20)\n",
        "ax.legend(prop={'size': 15})\n",
        "ax.grid()"
      ]
    },
    {
      "cell_type": "markdown",
      "metadata": {
        "id": "0oCm0k_M4phX"
      },
      "source": [
        "<p style=\"text-align: center;\">\n",
        "Figure 2: Forecasts of GDP per capita for Sweden using a simple trend model.\n",
        "</p>"
      ]
    }
  ],
  "metadata": {
    "kernelspec": {
      "display_name": "Python 3.10.7 64-bit",
      "language": "python",
      "name": "python3"
    },
    "language_info": {
      "codemirror_mode": {
        "name": "ipython",
        "version": 3
      },
      "file_extension": ".py",
      "mimetype": "text/x-python",
      "name": "python",
      "nbconvert_exporter": "python",
      "pygments_lexer": "ipython3",
      "version": "3.10.7"
    },
    "orig_nbformat": 4,
    "vscode": {
      "interpreter": {
        "hash": "b1896fd924129e7fd2d4d004268bb9f63a53b23ae7875be394e789ef8193cc30"
      }
    },
    "colab": {
      "provenance": [],
      "history_visible": true
    }
  },
  "nbformat": 4,
  "nbformat_minor": 0
}
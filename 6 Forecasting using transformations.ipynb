{
  "cells": [
    {
      "cell_type": "markdown",
      "metadata": {},
      "source": [
        "[![Open In Colab](https://colab.research.google.com/assets/colab-badge.svg)](https://colab.research.google.com/github/brauliobarahona/fpp3-python/blob/main/6 Forecasting using transformations.ipynb)"
      ]
    },
    {
      "cell_type": "code",
      "source": [
        "!pip install statsforecast"
      ],
      "metadata": {
        "colab": {
          "base_uri": "https://localhost:8080/"
        },
        "id": "NOwbqmNvnnGw",
        "executionInfo": {
          "status": "ok",
          "timestamp": 1738590256081,
          "user_tz": -60,
          "elapsed": 7449,
          "user": {
            "displayName": "Braulio Barahona",
            "userId": "14592026709786510981"
          }
        },
        "outputId": "f5638775-583a-490d-cc6b-5f3e0297f4cf"
      },
      "execution_count": 16,
      "outputs": [
        {
          "output_type": "stream",
          "name": "stdout",
          "text": [
            "Requirement already satisfied: statsforecast in /usr/local/lib/python3.11/dist-packages (2.0.0)\n",
            "Requirement already satisfied: cloudpickle in /usr/local/lib/python3.11/dist-packages (from statsforecast) (3.1.1)\n",
            "Requirement already satisfied: coreforecast>=0.0.12 in /usr/local/lib/python3.11/dist-packages (from statsforecast) (0.0.15)\n",
            "Requirement already satisfied: numba>=0.55.0 in /usr/local/lib/python3.11/dist-packages (from statsforecast) (0.60.0)\n",
            "Requirement already satisfied: numpy>=1.21.6 in /usr/local/lib/python3.11/dist-packages (from statsforecast) (1.26.4)\n",
            "Requirement already satisfied: pandas>=1.3.5 in /usr/local/lib/python3.11/dist-packages (from statsforecast) (2.2.2)\n",
            "Requirement already satisfied: scipy>=1.7.3 in /usr/local/lib/python3.11/dist-packages (from statsforecast) (1.13.1)\n",
            "Requirement already satisfied: statsmodels>=0.13.2 in /usr/local/lib/python3.11/dist-packages (from statsforecast) (0.14.4)\n",
            "Requirement already satisfied: tqdm in /usr/local/lib/python3.11/dist-packages (from statsforecast) (4.67.1)\n",
            "Requirement already satisfied: fugue>=0.8.1 in /usr/local/lib/python3.11/dist-packages (from statsforecast) (0.9.1)\n",
            "Requirement already satisfied: utilsforecast>=0.1.4 in /usr/local/lib/python3.11/dist-packages (from statsforecast) (0.2.11)\n",
            "Requirement already satisfied: threadpoolctl>=3 in /usr/local/lib/python3.11/dist-packages (from statsforecast) (3.5.0)\n",
            "Requirement already satisfied: triad>=0.9.7 in /usr/local/lib/python3.11/dist-packages (from fugue>=0.8.1->statsforecast) (0.9.8)\n",
            "Requirement already satisfied: adagio>=0.2.4 in /usr/local/lib/python3.11/dist-packages (from fugue>=0.8.1->statsforecast) (0.2.6)\n",
            "Requirement already satisfied: llvmlite<0.44,>=0.43.0dev0 in /usr/local/lib/python3.11/dist-packages (from numba>=0.55.0->statsforecast) (0.43.0)\n",
            "Requirement already satisfied: python-dateutil>=2.8.2 in /usr/local/lib/python3.11/dist-packages (from pandas>=1.3.5->statsforecast) (2.8.2)\n",
            "Requirement already satisfied: pytz>=2020.1 in /usr/local/lib/python3.11/dist-packages (from pandas>=1.3.5->statsforecast) (2024.2)\n",
            "Requirement already satisfied: tzdata>=2022.7 in /usr/local/lib/python3.11/dist-packages (from pandas>=1.3.5->statsforecast) (2025.1)\n",
            "Requirement already satisfied: patsy>=0.5.6 in /usr/local/lib/python3.11/dist-packages (from statsmodels>=0.13.2->statsforecast) (1.0.1)\n",
            "Requirement already satisfied: packaging>=21.3 in /usr/local/lib/python3.11/dist-packages (from statsmodels>=0.13.2->statsforecast) (24.2)\n",
            "Requirement already satisfied: six>=1.5 in /usr/local/lib/python3.11/dist-packages (from python-dateutil>=2.8.2->pandas>=1.3.5->statsforecast) (1.17.0)\n",
            "Requirement already satisfied: pyarrow>=6.0.1 in /usr/local/lib/python3.11/dist-packages (from triad>=0.9.7->fugue>=0.8.1->statsforecast) (17.0.0)\n",
            "Requirement already satisfied: fsspec>=2022.5.0 in /usr/local/lib/python3.11/dist-packages (from triad>=0.9.7->fugue>=0.8.1->statsforecast) (2024.10.0)\n",
            "Requirement already satisfied: fs in /usr/local/lib/python3.11/dist-packages (from triad>=0.9.7->fugue>=0.8.1->statsforecast) (2.4.16)\n",
            "Requirement already satisfied: appdirs~=1.4.3 in /usr/local/lib/python3.11/dist-packages (from fs->triad>=0.9.7->fugue>=0.8.1->statsforecast) (1.4.4)\n",
            "Requirement already satisfied: setuptools in /usr/local/lib/python3.11/dist-packages (from fs->triad>=0.9.7->fugue>=0.8.1->statsforecast) (75.1.0)\n"
          ]
        }
      ]
    },
    {
      "cell_type": "code",
      "source": [
        "# prompt: mount drive\n",
        "\n",
        "from google.colab import drive\n",
        "drive.mount('/content/drive')\n",
        "\n",
        "my_path = \"/content/drive/MyDrive/EDAF/Intro_data_forecast/fpp3-python/\"\n",
        "# /content/drive/MyDrive/EDAF/Intro_data_forecast/fpp3-python/Assets"
      ],
      "metadata": {
        "colab": {
          "base_uri": "https://localhost:8080/"
        },
        "id": "WnT7qo8gnmDH",
        "executionInfo": {
          "status": "ok",
          "timestamp": 1738590257613,
          "user_tz": -60,
          "elapsed": 1547,
          "user": {
            "displayName": "Braulio Barahona",
            "userId": "14592026709786510981"
          }
        },
        "outputId": "5ae83398-facb-460a-f001-43c1313ec03b"
      },
      "execution_count": 17,
      "outputs": [
        {
          "output_type": "stream",
          "name": "stdout",
          "text": [
            "Drive already mounted at /content/drive; to attempt to forcibly remount, call drive.mount(\"/content/drive\", force_remount=True).\n"
          ]
        }
      ]
    },
    {
      "cell_type": "markdown",
      "metadata": {
        "id": "koxTEVZ-nWok"
      },
      "source": [
        "## Forecasting using transformations\n",
        "***\n",
        "Some common transformations which can be used when modelling were discussed in Section 3.1. When forecasting from a model with transformations, we first produce forecasts of the transformed data. Then, we need to reverse the transformation (or back-transform) to obtain forecasts on the original scale. For Box-Cox transformations given by, the reverse transformation is given by\n",
        "\n",
        "$$\n",
        "y_{t}=\n",
        "\\begin{cases}\n",
        "exp(w_{t}) & \\quad \\text{if $\u03bb=0;$}\\\\\n",
        "sign(\u03bbw_{t}+1)|\u03bbw_{t}+1|^{1/\u03bb} & \\quad \\text{otherwise;}\n",
        "\\end{cases}\n",
        "$$\n",
        "\n",
        "## Prediction intervals with transformations\n",
        "\n",
        "If a transformation has been used, then the prediction interval is first computed on the transformed scale, and the end points are back-transformed to give a prediction interval on the original scale. This approach preserves the probability coverage of the prediction interval, although it will no longer be symmetric around the point forecast.\n",
        "\n",
        "Transformations sometimes make little difference to the point forecasts but have a large effect on prediction intervals.\n",
        "\n",
        "## Bias adjustments\n",
        "\n",
        "One issue with using mathematical transformations such as Box-Cox transformations is that the back-transformed point forecast will not be the mean of the forecast distribution. In fact, it will usually be the median of the forecast distribution (assuming that the distribution on the transformed space is symmetric). For many purposes, this is acceptable, although the mean is usually preferable. For example, you may wish to add up sales forecasts from various regions to form a forecast for the whole country. But medians do not add up, whereas means do.\n",
        "\n",
        "For a Box-Cox transformation, the back-transformed mean is given (approximately) by\n",
        "\n",
        "$$\n",
        "\\hat{y}_{T+h|T}=\n",
        "\\begin{cases}\n",
        "exp(\\hat{w}_{T+h|T}) [1 + \\frac{\u03c3_{h}^{2}}{2}] & \\quad \\text{if $\u03bb=0;$}\\\\\n",
        "sign(\u03bb\\hat{w}_{T+h|T}+1)^{1/\u03bb} [1 + \\frac{\u03c3_{h}^{2} (1-\u03bb)}{2(\u03bb\\hat{w}_{T+h|T}+1)^{2}}]  & \\quad \\text{otherwise;}\n",
        "\\end{cases}\n",
        "$$\n",
        "\n",
        "where $\\hat{w}_{T+h|T}$ is the $h$-step forecast mean and $\u03c3_{h}^{2}$ is the $h$-step forecast variance on the transformed scale. The larger the forecast variance, the bigger the difference between the mean and the median.\n",
        "\n",
        "The difference between the simple back-transformed forecast given by (5.2) and the mean given by (5.3) is called the **bias**. When we use the mean, rather than the median, we say the point forecasts have been **bias-adjusted**.\n",
        "\n",
        "To see how much difference this bias-adjustment makes, consider the following example, where we forecast the average annual price of eggs using the drift method with a log transformation $(\u03bb=0)$. The log transformation is useful in this case to ensure the forecasts and the prediction intervals stay positive."
      ]
    },
    {
      "cell_type": "code",
      "execution_count": 18,
      "metadata": {
        "id": "dKQ-hoB-nWom",
        "executionInfo": {
          "status": "ok",
          "timestamp": 1738590257615,
          "user_tz": -60,
          "elapsed": 32,
          "user": {
            "displayName": "Braulio Barahona",
            "userId": "14592026709786510981"
          }
        }
      },
      "outputs": [],
      "source": [
        "#Import the libraries that we are going to use for the analysis:\n",
        "import pandas as pd\n",
        "import numpy as np\n",
        "import scipy\n",
        "\n",
        "from statsforecast import StatsForecast\n",
        "from statsforecast.models import AutoARIMA\n",
        "from statsforecast.models import RandomWalkWithDrift\n",
        "from statsforecast.models import SeasonalNaive\n",
        "\n",
        "import matplotlib.pyplot as plt\n",
        "\n",
        "import warnings\n",
        "warnings.filterwarnings('ignore')"
      ]
    },
    {
      "cell_type": "code",
      "execution_count": 19,
      "metadata": {
        "id": "LoSrvYOQnWon",
        "executionInfo": {
          "status": "ok",
          "timestamp": 1738590257616,
          "user_tz": -60,
          "elapsed": 32,
          "user": {
            "displayName": "Braulio Barahona",
            "userId": "14592026709786510981"
          }
        }
      },
      "outputs": [],
      "source": [
        "# Create a dataframe from a csv file:\n",
        "df_eggs = pd.read_csv(my_path + \"Assets/egg_prices.csv\", sep=\";\")\n",
        "\n",
        "# Rename columns:\n",
        "df_eggs.columns = [\"ds\",\"egg_prices\"]\n",
        "\n",
        "# Create a new column in the dataframe, unique_id:\n",
        "df_eggs[\"unique_id\"] = \"egg_prices\"\n",
        "\n",
        "# Return a serie with a log transformation (\u03bb=0):\n",
        "df_eggs[\"egg_prices\"] = scipy.stats.boxcox(df_eggs[\"egg_prices\"].values, lmbda=0, alpha=None, optimizer=None)"
      ]
    },
    {
      "cell_type": "code",
      "execution_count": 20,
      "metadata": {
        "id": "z_3bHpbunWoo",
        "executionInfo": {
          "status": "ok",
          "timestamp": 1738590257617,
          "user_tz": -60,
          "elapsed": 33,
          "user": {
            "displayName": "Braulio Barahona",
            "userId": "14592026709786510981"
          }
        }
      },
      "outputs": [],
      "source": [
        "# Define the models:\n",
        "models = [AutoARIMA(season_length=1, approximation=True), RandomWalkWithDrift()]"
      ]
    },
    {
      "cell_type": "code",
      "execution_count": 21,
      "metadata": {
        "id": "3F_H0UF-nWoo",
        "executionInfo": {
          "status": "ok",
          "timestamp": 1738590257972,
          "user_tz": -60,
          "elapsed": 389,
          "user": {
            "displayName": "Braulio Barahona",
            "userId": "14592026709786510981"
          }
        }
      },
      "outputs": [],
      "source": [
        "# Fit and predict:\n",
        "fcst = StatsForecast(\n",
        "                     models=models,\n",
        "                     freq=\"Y\",\n",
        "                     n_jobs=-1)"
      ]
    },
    {
      "cell_type": "code",
      "execution_count": 22,
      "metadata": {
        "id": "ZP3g4ypri2VF",
        "executionInfo": {
          "status": "ok",
          "timestamp": 1738590257973,
          "user_tz": -60,
          "elapsed": 34,
          "user": {
            "displayName": "Braulio Barahona",
            "userId": "14592026709786510981"
          }
        }
      },
      "outputs": [],
      "source": [
        "# Define the model, fit and predict:\n",
        "sf = StatsForecast( models=models,\n",
        "                     freq=1,\n",
        "                     n_jobs=-1,\n",
        "                    )"
      ]
    },
    {
      "cell_type": "code",
      "execution_count": 23,
      "metadata": {
        "id": "XJhtsVAai2VG",
        "executionInfo": {
          "status": "ok",
          "timestamp": 1738590257974,
          "user_tz": -60,
          "elapsed": 34,
          "user": {
            "displayName": "Braulio Barahona",
            "userId": "14592026709786510981"
          }
        }
      },
      "outputs": [],
      "source": [
        "# We can define the level of the forecast intervals we want to produce. StatsForecast will produce these levels:\n",
        "levels = [80, 80]"
      ]
    },
    {
      "cell_type": "code",
      "execution_count": 30,
      "metadata": {
        "colab": {
          "base_uri": "https://localhost:8080/",
          "height": 373
        },
        "id": "e_FlkCeBi2VG",
        "executionInfo": {
          "status": "error",
          "timestamp": 1738590435164,
          "user_tz": -60,
          "elapsed": 407,
          "user": {
            "displayName": "Braulio Barahona",
            "userId": "14592026709786510981"
          }
        },
        "outputId": "31e7e409-1917-4a25-bc07-d1ba431210d7",
        "collapsed": true
      },
      "outputs": [
        {
          "output_type": "error",
          "ename": "ValueError",
          "evalue": "The following columns are missing: ['unique_id', 'y']",
          "traceback": [
            "\u001b[0;31m---------------------------------------------------------------------------\u001b[0m",
            "\u001b[0;31mValueError\u001b[0m                                Traceback (most recent call last)",
            "\u001b[0;32m<ipython-input-30-723e2418a9ed>\u001b[0m in \u001b[0;36m<cell line: 0>\u001b[0;34m()\u001b[0m\n\u001b[1;32m      1\u001b[0m \u001b[0;31m# The forecast function converts the forecast distributions into intervals:\u001b[0m\u001b[0;34m\u001b[0m\u001b[0;34m\u001b[0m\u001b[0m\n\u001b[1;32m      2\u001b[0m \u001b[0;31m# df_eggs <- rename column to make it work\u001b[0m\u001b[0;34m\u001b[0m\u001b[0;34m\u001b[0m\u001b[0m\n\u001b[0;32m----> 3\u001b[0;31m \u001b[0mfcst\u001b[0m \u001b[0;34m=\u001b[0m \u001b[0msf\u001b[0m\u001b[0;34m.\u001b[0m\u001b[0mforecast\u001b[0m\u001b[0;34m(\u001b[0m\u001b[0mdf\u001b[0m\u001b[0;34m=\u001b[0m\u001b[0mdf_eggs\u001b[0m\u001b[0;34m[\u001b[0m\u001b[0;34m[\u001b[0m\u001b[0;34m\"ds\"\u001b[0m\u001b[0;34m,\u001b[0m \u001b[0;34m\"egg_prices\"\u001b[0m\u001b[0;34m]\u001b[0m\u001b[0;34m]\u001b[0m\u001b[0;34m,\u001b[0m \u001b[0mh\u001b[0m\u001b[0;34m=\u001b[0m\u001b[0;36m50\u001b[0m\u001b[0;34m,\u001b[0m \u001b[0mlevel\u001b[0m\u001b[0;34m=\u001b[0m\u001b[0mlevels\u001b[0m\u001b[0;34m)\u001b[0m\u001b[0;34m;\u001b[0m\u001b[0;34m\u001b[0m\u001b[0;34m\u001b[0m\u001b[0m\n\u001b[0m\u001b[1;32m      4\u001b[0m \u001b[0mfcst\u001b[0m\u001b[0;34m.\u001b[0m\u001b[0mhead\u001b[0m\u001b[0;34m(\u001b[0m\u001b[0;34m)\u001b[0m\u001b[0;34m\u001b[0m\u001b[0;34m\u001b[0m\u001b[0m\n",
            "\u001b[0;32m/usr/local/lib/python3.11/dist-packages/statsforecast/core.py\u001b[0m in \u001b[0;36mforecast\u001b[0;34m(self, h, df, X_df, level, fitted, prediction_intervals, id_col, time_col, target_col)\u001b[0m\n\u001b[1;32m   1533\u001b[0m             )\n\u001b[1;32m   1534\u001b[0m         \u001b[0;32mif\u001b[0m \u001b[0mself\u001b[0m\u001b[0;34m.\u001b[0m\u001b[0m_is_native\u001b[0m\u001b[0;34m(\u001b[0m\u001b[0mdf\u001b[0m\u001b[0;34m=\u001b[0m\u001b[0mdf\u001b[0m\u001b[0;34m)\u001b[0m\u001b[0;34m:\u001b[0m\u001b[0;34m\u001b[0m\u001b[0;34m\u001b[0m\u001b[0m\n\u001b[0;32m-> 1535\u001b[0;31m             return super().forecast(\n\u001b[0m\u001b[1;32m   1536\u001b[0m                 \u001b[0mdf\u001b[0m\u001b[0;34m=\u001b[0m\u001b[0mdf\u001b[0m\u001b[0;34m,\u001b[0m\u001b[0;34m\u001b[0m\u001b[0;34m\u001b[0m\u001b[0m\n\u001b[1;32m   1537\u001b[0m                 \u001b[0mh\u001b[0m\u001b[0;34m=\u001b[0m\u001b[0mh\u001b[0m\u001b[0;34m,\u001b[0m\u001b[0;34m\u001b[0m\u001b[0;34m\u001b[0m\u001b[0m\n",
            "\u001b[0;32m/usr/local/lib/python3.11/dist-packages/statsforecast/core.py\u001b[0m in \u001b[0;36mforecast\u001b[0;34m(self, h, df, X_df, level, fitted, prediction_intervals, id_col, time_col, target_col)\u001b[0m\n\u001b[1;32m    854\u001b[0m         \"\"\"\n\u001b[1;32m    855\u001b[0m         \u001b[0mself\u001b[0m\u001b[0;34m.\u001b[0m\u001b[0m__dict__\u001b[0m\u001b[0;34m.\u001b[0m\u001b[0mpop\u001b[0m\u001b[0;34m(\u001b[0m\u001b[0;34m\"fcst_fitted_values_\"\u001b[0m\u001b[0;34m,\u001b[0m \u001b[0;32mNone\u001b[0m\u001b[0;34m)\u001b[0m\u001b[0;34m\u001b[0m\u001b[0;34m\u001b[0m\u001b[0m\n\u001b[0;32m--> 856\u001b[0;31m         self._prepare_fit(\n\u001b[0m\u001b[1;32m    857\u001b[0m             \u001b[0mdf\u001b[0m\u001b[0;34m=\u001b[0m\u001b[0mdf\u001b[0m\u001b[0;34m,\u001b[0m \u001b[0mid_col\u001b[0m\u001b[0;34m=\u001b[0m\u001b[0mid_col\u001b[0m\u001b[0;34m,\u001b[0m \u001b[0mtime_col\u001b[0m\u001b[0;34m=\u001b[0m\u001b[0mtime_col\u001b[0m\u001b[0;34m,\u001b[0m \u001b[0mtarget_col\u001b[0m\u001b[0;34m=\u001b[0m\u001b[0mtarget_col\u001b[0m\u001b[0;34m\u001b[0m\u001b[0;34m\u001b[0m\u001b[0m\n\u001b[1;32m    858\u001b[0m         )\n",
            "\u001b[0;32m/usr/local/lib/python3.11/dist-packages/statsforecast/core.py\u001b[0m in \u001b[0;36m_prepare_fit\u001b[0;34m(self, df, id_col, time_col, target_col)\u001b[0m\n\u001b[1;32m    582\u001b[0m         \u001b[0mdf\u001b[0m \u001b[0;34m=\u001b[0m \u001b[0mensure_time_dtype\u001b[0m\u001b[0;34m(\u001b[0m\u001b[0mdf\u001b[0m\u001b[0;34m,\u001b[0m \u001b[0mtime_col\u001b[0m\u001b[0;34m)\u001b[0m\u001b[0;34m\u001b[0m\u001b[0;34m\u001b[0m\u001b[0m\n\u001b[1;32m    583\u001b[0m         \u001b[0mvalidate_freq\u001b[0m\u001b[0;34m(\u001b[0m\u001b[0mdf\u001b[0m\u001b[0;34m[\u001b[0m\u001b[0mtime_col\u001b[0m\u001b[0;34m]\u001b[0m\u001b[0;34m,\u001b[0m \u001b[0mself\u001b[0m\u001b[0;34m.\u001b[0m\u001b[0mfreq\u001b[0m\u001b[0;34m)\u001b[0m\u001b[0;34m\u001b[0m\u001b[0;34m\u001b[0m\u001b[0m\n\u001b[0;32m--> 584\u001b[0;31m         self.uids, last_times, data, indptr, sort_idxs = ufp.process_df(\n\u001b[0m\u001b[1;32m    585\u001b[0m             \u001b[0mdf\u001b[0m\u001b[0;34m,\u001b[0m \u001b[0mid_col\u001b[0m\u001b[0;34m,\u001b[0m \u001b[0mtime_col\u001b[0m\u001b[0;34m,\u001b[0m \u001b[0mtarget_col\u001b[0m\u001b[0;34m\u001b[0m\u001b[0;34m\u001b[0m\u001b[0m\n\u001b[1;32m    586\u001b[0m         )\n",
            "\u001b[0;32m/usr/local/lib/python3.11/dist-packages/utilsforecast/processing.py\u001b[0m in \u001b[0;36mprocess_df\u001b[0;34m(df, id_col, time_col, target_col)\u001b[0m\n\u001b[1;32m    684\u001b[0m     \"\"\"\n\u001b[1;32m    685\u001b[0m     \u001b[0;31m# validations\u001b[0m\u001b[0;34m\u001b[0m\u001b[0;34m\u001b[0m\u001b[0m\n\u001b[0;32m--> 686\u001b[0;31m     \u001b[0mvalidate_format\u001b[0m\u001b[0;34m(\u001b[0m\u001b[0mdf\u001b[0m\u001b[0;34m,\u001b[0m \u001b[0mid_col\u001b[0m\u001b[0;34m,\u001b[0m \u001b[0mtime_col\u001b[0m\u001b[0;34m,\u001b[0m \u001b[0mtarget_col\u001b[0m\u001b[0;34m)\u001b[0m\u001b[0;34m\u001b[0m\u001b[0;34m\u001b[0m\u001b[0m\n\u001b[0m\u001b[1;32m    687\u001b[0m \u001b[0;34m\u001b[0m\u001b[0m\n\u001b[1;32m    688\u001b[0m     \u001b[0;31m# ids\u001b[0m\u001b[0;34m\u001b[0m\u001b[0;34m\u001b[0m\u001b[0m\n",
            "\u001b[0;32m/usr/local/lib/python3.11/dist-packages/utilsforecast/validation.py\u001b[0m in \u001b[0;36mvalidate_format\u001b[0;34m(df, id_col, time_col, target_col)\u001b[0m\n\u001b[1;32m    107\u001b[0m     \u001b[0mmissing_cols\u001b[0m \u001b[0;34m=\u001b[0m \u001b[0msorted\u001b[0m\u001b[0;34m(\u001b[0m\u001b[0mexpected_cols\u001b[0m \u001b[0;34m-\u001b[0m \u001b[0mset\u001b[0m\u001b[0;34m(\u001b[0m\u001b[0mdf\u001b[0m\u001b[0;34m.\u001b[0m\u001b[0mcolumns\u001b[0m\u001b[0;34m)\u001b[0m\u001b[0;34m)\u001b[0m\u001b[0;34m\u001b[0m\u001b[0;34m\u001b[0m\u001b[0m\n\u001b[1;32m    108\u001b[0m     \u001b[0;32mif\u001b[0m \u001b[0mmissing_cols\u001b[0m\u001b[0;34m:\u001b[0m\u001b[0;34m\u001b[0m\u001b[0;34m\u001b[0m\u001b[0m\n\u001b[0;32m--> 109\u001b[0;31m         \u001b[0;32mraise\u001b[0m \u001b[0mValueError\u001b[0m\u001b[0;34m(\u001b[0m\u001b[0;34mf\"The following columns are missing: {missing_cols}\"\u001b[0m\u001b[0;34m)\u001b[0m\u001b[0;34m\u001b[0m\u001b[0;34m\u001b[0m\u001b[0m\n\u001b[0m\u001b[1;32m    110\u001b[0m \u001b[0;34m\u001b[0m\u001b[0m\n\u001b[1;32m    111\u001b[0m     \u001b[0;31m# time col\u001b[0m\u001b[0;34m\u001b[0m\u001b[0;34m\u001b[0m\u001b[0m\n",
            "\u001b[0;31mValueError\u001b[0m: The following columns are missing: ['unique_id', 'y']"
          ]
        }
      ],
      "source": [
        "# The forecast function converts the forecast distributions into intervals:\n",
        "# df_eggs <- rename column to make it work\n",
        "fcst = sf.forecast(df=df_eggs[[\"ds\", \"egg_prices\"]], h=50, level=levels);\n",
        "fcst.head()\n"
      ]
    },
    {
      "cell_type": "code",
      "execution_count": null,
      "metadata": {
        "id": "8pLlg-PAnWop",
        "executionInfo": {
          "status": "aborted",
          "timestamp": 1738590258396,
          "user_tz": -60,
          "elapsed": 451,
          "user": {
            "displayName": "Braulio Barahona",
            "userId": "14592026709786510981"
          }
        }
      },
      "outputs": [],
      "source": [
        "# Calculate the exponential of the values forecasted and the intervals:\n",
        "forecasts[\"AutoARIMA\"] = np.exp(forecasts[\"AutoARIMA\"])\n",
        "forecasts[\"AutoARIMA-lo-80\"] = np.exp(forecasts[\"AutoARIMA-lo-80\"])\n",
        "forecasts[\"AutoARIMA-hi-80\"] = np.exp(forecasts[\"AutoARIMA-hi-80\"])\n",
        "forecasts[\"RWD\"] = np.exp(forecasts[\"RWD\"])\n",
        "\n",
        "forecasts.head(5)"
      ]
    },
    {
      "cell_type": "code",
      "execution_count": null,
      "metadata": {
        "id": "tznNllWJnWoq",
        "executionInfo": {
          "status": "aborted",
          "timestamp": 1738590258396,
          "user_tz": -60,
          "elapsed": 2,
          "user": {
            "displayName": "Braulio Barahona",
            "userId": "14592026709786510981"
          }
        }
      },
      "outputs": [],
      "source": [
        "# Recreate the dataframe with the original values:\n",
        "df_eggs = pd.read_csv(my_path + \"Assets/egg_prices.csv\", sep=\";\")\n",
        "df_eggs.columns = [\"ds\",\"egg_prices\"]\n",
        "df_eggs[\"unique_id\"] = \"egg_prices\""
      ]
    },
    {
      "cell_type": "code",
      "execution_count": null,
      "metadata": {
        "id": "mrtbAE3YnWoq",
        "executionInfo": {
          "status": "aborted",
          "timestamp": 1738590258396,
          "user_tz": -60,
          "elapsed": 2,
          "user": {
            "displayName": "Braulio Barahona",
            "userId": "14592026709786510981"
          }
        }
      },
      "outputs": [],
      "source": [
        "fig, ax = plt.subplots(1, 1, figsize = (20, 8))\n",
        "\n",
        "# Concatenate the dataframe of predicted values with the dataframe of observed values:\n",
        "df_plot = pd.concat([df_eggs, forecasts]).set_index('ds')\n",
        "plt.plot(df_plot['egg_prices'], 'k-', df_plot['AutoARIMA'], 'b-', df_plot['RWD'], 'b--' )\n",
        "\n",
        "# Specify graph features:\n",
        "ax.fill_between(df_plot.index,\n",
        "                df_plot['AutoARIMA-lo-80'],\n",
        "                df_plot['AutoARIMA-hi-80'],\n",
        "                alpha=.35,\n",
        "                color='blue',\n",
        "                label='auto_arima_level_80')\n",
        "ax.set_title('Annual eggs prices', fontsize=20)\n",
        "ax.set_ylabel('$US (in cents ajusted by inflation', fontsize=15)\n",
        "ax.set_xlabel('Year', fontsize=15)\n",
        "ax.legend(['egg_prices', 'AutoARIMA model', 'RWD model'], prop={'size': 15})\n",
        "ax.grid()"
      ]
    },
    {
      "cell_type": "markdown",
      "metadata": {
        "id": "DMtEs4kQnWor"
      },
      "source": [
        "<p style=\"text-align: center;\">\n",
        "The dashed line in Figure 17 shows the RWD forecast while the solid line shows the Auto ARIMA forecast. Notice how the skewed forecast distribution pulls up the Auto ARIMA forecast distribution\u2019s; this is a result of the added term from the **bias adjustment**.\n",
        "</p>"
      ]
    }
  ],
  "metadata": {
    "kernelspec": {
      "display_name": "Python 3.10.7 64-bit",
      "language": "python",
      "name": "python3"
    },
    "language_info": {
      "codemirror_mode": {
        "name": "ipython",
        "version": 3
      },
      "file_extension": ".py",
      "mimetype": "text/x-python",
      "name": "python",
      "nbconvert_exporter": "python",
      "pygments_lexer": "ipython3",
      "version": "3.10.7"
    },
    "orig_nbformat": 4,
    "vscode": {
      "interpreter": {
        "hash": "b1896fd924129e7fd2d4d004268bb9f63a53b23ae7875be394e789ef8193cc30"
      }
    },
    "colab": {
      "provenance": [],
      "history_visible": true
    }
  },
  "nbformat": 4,
  "nbformat_minor": 0
}